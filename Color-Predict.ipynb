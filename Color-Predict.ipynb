{
 "cells": [
  {
   "cell_type": "markdown",
   "id": "76882b87",
   "metadata": {},
   "source": [
    "# 🎨 Color Classification with YOLOv8\n",
    "\n",
    "This notebook uses a **YOLOv8 model** to classify the **dominant color** in an input image.  \n",
    "It is designed to support integration with object detection systems to determine object colors.\n",
    "\n",
    "---\n",
    "\n",
    "## 📦 Step 1: Install Dependencies\n",
    "\n",
    "Required libraries:\n",
    "\n",
    "- `ultralytics`\n",
    "- `torch`\n",
    "- `pyttsx4`\n",
    "\n",
    "🛠️ Uncomment and run the cell below **once**:\n"
   ]
  },
  {
   "cell_type": "code",
   "execution_count": null,
   "id": "fbb5f94d",
   "metadata": {},
   "outputs": [],
   "source": [
    "  # !pip install -r requirements.txt"
   ]
  },
  {
   "cell_type": "markdown",
   "id": "d13fbb4c",
   "metadata": {},
   "source": [
    "## 🖼️ Step 2: Predict Color from Image\n",
    "Load a custom YOLOv8 model, predict the color of an input image, and announce the result using text-to-speech."
   ]
  },
  {
   "cell_type": "code",
   "execution_count": null,
   "id": "a39f3528",
   "metadata": {},
   "outputs": [],
   "source": [
    "from ultralytics import YOLO\n",
    "import pyttsx4\n",
    "\n",
    "# 🔊 Speak detected color aloud (Windows SAPI5)\n",
    "def speak_color(color_name, path=None):\n",
    "    engine = pyttsx4.init(driverName='sapi5')\n",
    "    engine.setProperty('rate', 130)\n",
    "    engine.setProperty('volume', 1.0)\n",
    "    engine.say(\"Initializing\")\n",
    "    engine.runAndWait()\n",
    "\n",
    "    text = f\"The detected color is {color_name}.\"\n",
    "    print(\"Speaking:\", text)\n",
    "    engine.say(text)\n",
    "    engine.runAndWait()\n",
    "\n",
    "# 📦 Load trained model\n",
    "model = YOLO('Source/Models/model.pt')\n",
    "path = 'Source/Images/img2.jpg'\n",
    "\n",
    "# 🔍 Predict color\n",
    "results = model(path)\n",
    "color_name = results[0].names[results[0].probs.top1]\n",
    "\n",
    "# 🖨️ Show + Speak\n",
    "print(\"Detected Color:\", color_name)\n",
    "speak_color(color_name, path)\n"
   ]
  }
 ],
 "metadata": {
  "kernelspec": {
   "display_name": "Python 3",
   "language": "python",
   "name": "python3"
  },
  "language_info": {
   "codemirror_mode": {
    "name": "ipython",
    "version": 3
   },
   "file_extension": ".py",
   "mimetype": "text/x-python",
   "name": "python",
   "nbconvert_exporter": "python",
   "pygments_lexer": "ipython3",
   "version": "3.11.13"
  }
 },
 "nbformat": 4,
 "nbformat_minor": 5
}
